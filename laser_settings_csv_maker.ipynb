{
 "cells": [
  {
   "cell_type": "code",
   "execution_count": 4,
   "id": "4b338681",
   "metadata": {},
   "outputs": [],
   "source": [
    "# input: LAS file, output csv\n",
    "\n",
    "import pandas as pd\n",
    "import os\n",
    "from pathlib import Path"
   ]
  },
  {
   "cell_type": "markdown",
   "id": "3413bee8",
   "metadata": {},
   "source": [
    "# How to use\n",
    "\n",
    "1. Edit the variables in the cell below.\n",
    "2. Run all cells by clicking \"Cell > Run All\" or \"Ctrl + Enter\" on each cell.\n"
   ]
  },
  {
   "cell_type": "code",
   "execution_count": 10,
   "id": "451d9c3b",
   "metadata": {
    "scrolled": false
   },
   "outputs": [
    {
     "name": "stdout",
     "output_type": "stream",
     "text": [
      "IGNORING file: Basswood\n",
      "IGNORING file: Plywood\n"
     ]
    }
   ],
   "source": [
    "# edit these to point to your .las file\n",
    "TEMPLATES_PARENT_FOLDER = \"C:\\\\Users\\\\paigeplan\\\\Documents\\\\laser_settings_csv_maker\\\\data\\\\\"\n",
    "TEMPLATE_FOLDER_NAME = \"#6 PLS_660 Material Settings\"\n",
    "\n",
    "OUTPUT_FOLDER = \"C:\\\\Users\\\\paigeplan\\\\Documents\\\\laser_settings_csv_maker\\\\data\\\\\"\n",
    "OUTPUT_FILENAME = \"Laser6_all_settings.csv\"\n",
    "\n",
    "\n",
    "# do not edit this line\n",
    "create_machine_csv(TEMPLATES_PARENT_FOLDER + TEMPLATE_FOLDER_NAME + \"\\\\\", OUTPUT_FOLDER, OUTPUT_FILENAME)"
   ]
  },
  {
   "cell_type": "code",
   "execution_count": 7,
   "id": "51f9504d",
   "metadata": {},
   "outputs": [],
   "source": [
    "def parse_file(filepath, title):\n",
    "    # returns dataframe \n",
    "    \n",
    "    colors = [\"Black\", \"Red\", \"Green\", \"Yellow\", \"Blue\", \"Magenta\", \"Cyan\", \"Orange\"]\n",
    "    modes = [\"Skip\", \"Rast\", \"Vect\", \"Vect\", \"Vect\", \"Vect\", \"Vect\", \"Vect\"]\n",
    "    \n",
    "    laser_name = \"\"\n",
    "    material_powers = []\n",
    "    material_speeds = []\n",
    "    material_ppi = []\n",
    "\n",
    "    with open(filepath) as input_data:\n",
    "    \n",
    "        laser_name = input_data.readline().strip()[1:-1] # the last part takes off first and last brackets\n",
    "        for line in input_data:\n",
    "        \n",
    "            current_line = line.split(\"=\")\n",
    "            if (current_line[0] == \"PenPowers\"):\n",
    "                material_powers = current_line[1].strip().split(\" \")\n",
    "                material_powers = [int(x)/10 for x in material_powers]\n",
    "\n",
    "            if (current_line[0] == \"PenSpeedsCips\"):\n",
    "                material_speeds = current_line[1].strip().split(\" \")\n",
    "                material_speeds = [int(x)/10 for x in material_speeds]\n",
    "            if (current_line[0] == \"PenRates\"):\n",
    "                material_ppi = current_line[1].strip().split(\" \")\n",
    "                material_ppi = [int(x) for x in material_ppi]\n",
    "    \n",
    "    \n",
    "    data = {laser_name:colors, \"Mode\": modes, \"Power\": material_powers, \"Speed\": material_speeds, \"PPI\": material_ppi}\n",
    "    df = pd.DataFrame(data)\n",
    "    df.set_index(laser_name, inplace=True) # removes the row numbers added by default\n",
    "    \n",
    "    return df\n",
    "\n"
   ]
  },
  {
   "cell_type": "code",
   "execution_count": 8,
   "id": "909f1b3f",
   "metadata": {},
   "outputs": [],
   "source": [
    "def create_machine_csv(input_folder, output_folder, output_filename):\n",
    "    data_frames = []\n",
    "    output_path = Path(OUTPUT_FOLDER, output_filename)\n",
    "    output_path.unlink(missing_ok=True) #delete if already exists\n",
    "    output_path.parent.mkdir(parents=True, exist_ok=True)\n",
    "    pd.DataFrame().to_csv(output_path, mode=\"a\")\n",
    "    \n",
    "    material_folders = [input_folder + file for file in os.listdir(input_folder)]\n",
    "    for material_folder in material_folders:\n",
    "        \n",
    "        # add foldername row\n",
    "        hacky_title_df = pd.DataFrame({\" \": [material_folder]})\n",
    "        hacky_title_df.set_index(\" \", inplace=True) # removes the row numbers added by default\n",
    "        hacky_title_df.to_csv(output_path, mode=\"a\")\n",
    "        \n",
    "        # process files inside folders\n",
    "        files = os.listdir(material_folder)\n",
    "        for material_file in files:\n",
    "            if Path(material_file).suffix != \".las\": #ignore wrong filetypes\n",
    "                print(\"IGNORING file: \" + material_file)\n",
    "            else:\n",
    "                hacky_title_df = pd.DataFrame({\" \": [material_file]})\n",
    "                hacky_title_df.set_index(\" \", inplace=True) # removes the row numbers added by default\n",
    "                material_df = parse_file(material_folder + \"\\\\\" + material_file, material_file)\n",
    "                hacky_title_df.to_csv(output_path, mode=\"a\")\n",
    "                material_df.to_csv(output_path, mode=\"a\")\n",
    "            "
   ]
  },
  {
   "cell_type": "code",
   "execution_count": null,
   "id": "8cb31a5d",
   "metadata": {},
   "outputs": [],
   "source": []
  },
  {
   "cell_type": "code",
   "execution_count": null,
   "id": "b13453ea",
   "metadata": {},
   "outputs": [],
   "source": []
  }
 ],
 "metadata": {
  "kernelspec": {
   "display_name": "Python 3 (ipykernel)",
   "language": "python",
   "name": "python3"
  },
  "language_info": {
   "codemirror_mode": {
    "name": "ipython",
    "version": 3
   },
   "file_extension": ".py",
   "mimetype": "text/x-python",
   "name": "python",
   "nbconvert_exporter": "python",
   "pygments_lexer": "ipython3",
   "version": "3.9.12"
  }
 },
 "nbformat": 4,
 "nbformat_minor": 5
}
